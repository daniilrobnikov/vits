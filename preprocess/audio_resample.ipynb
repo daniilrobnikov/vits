{
 "cells": [
  {
   "cell_type": "markdown",
   "metadata": {},
   "source": [
    "# Resample audio wavs\n",
    "Refer to: [audio resampling tutorial](https://pytorch.org/audio/0.10.0/tutorials/audio_resampling_tutorial.html)"
   ]
  },
  {
   "cell_type": "code",
   "execution_count": null,
   "metadata": {},
   "outputs": [],
   "source": [
    "%cd ..\n",
    "%ls"
   ]
  },
  {
   "cell_type": "code",
   "execution_count": 7,
   "metadata": {},
   "outputs": [],
   "source": [
    "import os\n",
    "import torchaudio\n",
    "import torchaudio.transforms as T\n",
    "import concurrent.futures\n",
    "from pathlib import Path\n",
    "import random"
   ]
  },
  {
   "cell_type": "code",
   "execution_count": 8,
   "metadata": {},
   "outputs": [],
   "source": [
    "# Example usage:\n",
    "input_directory = \"/Users/daniilrobnikov/Developer/TTS/vits/split1\"\n",
    "output_directory = \"/Users/daniilrobnikov/Developer/TTS/vits/split1.cleaned\"\n",
    "orig_sr = 16000\n",
    "new_sr = 22050"
   ]
  },
  {
   "cell_type": "code",
   "execution_count": 9,
   "metadata": {},
   "outputs": [
    {
     "name": "stdout",
     "output_type": "stream",
     "text": [
      "0: /Users/daniilrobnikov/Developer/TTS/vits/split1.cleaned/281474982239117.wav\n",
      "1000: /Users/daniilrobnikov/Developer/TTS/vits/split1.cleaned/281474982163471.wav\n",
      "2000: /Users/daniilrobnikov/Developer/TTS/vits/split1.cleaned/281474982243109.wav\n",
      "3000: /Users/daniilrobnikov/Developer/TTS/vits/split1.cleaned/281474981977517.wav\n",
      "4000: /Users/daniilrobnikov/Developer/TTS/vits/split1.cleaned/281474982151956.wav\n",
      "5000: /Users/daniilrobnikov/Developer/TTS/vits/split1.cleaned/281474982230487.wav\n",
      "6000: /Users/daniilrobnikov/Developer/TTS/vits/split1.cleaned/281474982148431.wav\n",
      "7000: /Users/daniilrobnikov/Developer/TTS/vits/split1.cleaned/281474982063925.wav\n",
      "8000: /Users/daniilrobnikov/Developer/TTS/vits/split1.cleaned/281474982245493.wav\n",
      "9000: /Users/daniilrobnikov/Developer/TTS/vits/split1.cleaned/281474982076816.wav\n",
      "10000: /Users/daniilrobnikov/Developer/TTS/vits/split1.cleaned/281474982426392.wav\n",
      "11000: /Users/daniilrobnikov/Developer/TTS/vits/split1.cleaned/281474982070535.wav\n",
      "12000: /Users/daniilrobnikov/Developer/TTS/vits/split1.cleaned/281474982156450.wav\n",
      "13000: /Users/daniilrobnikov/Developer/TTS/vits/split1.cleaned/281474982145002.wav\n",
      "14000: /Users/daniilrobnikov/Developer/TTS/vits/split1.cleaned/281474982424030.wav\n",
      "15000: /Users/daniilrobnikov/Developer/TTS/vits/split1.cleaned/281474982154063.wav\n",
      "16000: /Users/daniilrobnikov/Developer/TTS/vits/split1.cleaned/281474982152573.wav\n",
      "17000: /Users/daniilrobnikov/Developer/TTS/vits/split1.cleaned/281474982071784.wav\n",
      "18000: /Users/daniilrobnikov/Developer/TTS/vits/split1.cleaned/281474982067044.wav\n",
      "19000: /Users/daniilrobnikov/Developer/TTS/vits/split1.cleaned/281474982164373.wav\n",
      "20000: /Users/daniilrobnikov/Developer/TTS/vits/split1.cleaned/281474982073977.wav\n",
      "21000: /Users/daniilrobnikov/Developer/TTS/vits/split1.cleaned/281474982070476.wav\n",
      "22000: /Users/daniilrobnikov/Developer/TTS/vits/split1.cleaned/281474982149482.wav\n",
      "23000: /Users/daniilrobnikov/Developer/TTS/vits/split1.cleaned/281474982161737.wav\n",
      "24000: /Users/daniilrobnikov/Developer/TTS/vits/split1.cleaned/281474982236945.wav\n",
      "25000: /Users/daniilrobnikov/Developer/TTS/vits/split1.cleaned/281474981298719.wav\n",
      "26000: /Users/daniilrobnikov/Developer/TTS/vits/split1.cleaned/281474982067341.wav\n",
      "27000: /Users/daniilrobnikov/Developer/TTS/vits/split1.cleaned/281474982066466.wav\n",
      "28000: /Users/daniilrobnikov/Developer/TTS/vits/split1.cleaned/281474982322498.wav\n",
      "Resampled /Users/daniilrobnikov/Developer/TTS/vits/split1 to /Users/daniilrobnikov/Developer/TTS/vits/split1.cleaned in 17.318203926086426 seconds\n"
     ]
    }
   ],
   "source": [
    "def resample_wav_files(input_dir, output_dir, sr, new_sr):\n",
    "    # Create the output directory if it doesn't exist\n",
    "    os.makedirs(output_dir, exist_ok=True)\n",
    "\n",
    "    # Create a resampler object\n",
    "    resampler = T.Resample(\n",
    "        sr,\n",
    "        new_sr,\n",
    "        lowpass_filter_width=128,\n",
    "        rolloff=0.99999,\n",
    "        resampling_method=\"sinc_interp_hann\",\n",
    "    )\n",
    "\n",
    "    def resample_file(file_path):\n",
    "        # Load the audio file\n",
    "        waveform, sample_rate = torchaudio.load(file_path)\n",
    "        assert sample_rate == sr\n",
    "\n",
    "        # Resample the audio\n",
    "        resampled_waveform = resampler(waveform)\n",
    "\n",
    "        # Construct the output file path\n",
    "        output_file = Path(output_dir) / Path(file_path).relative_to(input_dir)\n",
    "\n",
    "        # Save the resampled audio\n",
    "        torchaudio.save(output_file, resampled_waveform, new_sr)\n",
    "\n",
    "        return output_file\n",
    "\n",
    "    # Use generator to find .wav files and pre-create output directories\n",
    "    def find_and_prep_wav_files(input_dir, output_dir):\n",
    "        for root, _, files in os.walk(input_dir):\n",
    "            for file in files:\n",
    "                if file.endswith(\".wav\"):\n",
    "                    file_path = Path(root) / file\n",
    "                    output_file = Path(output_dir) / file_path.relative_to(input_dir)\n",
    "                    os.makedirs(output_file.parent, exist_ok=True)\n",
    "                    yield str(file_path)\n",
    "\n",
    "    # Resample the .wav files using threads for parallel processing\n",
    "    wav_files = find_and_prep_wav_files(input_dir, output_dir)\n",
    "    with concurrent.futures.ThreadPoolExecutor() as executor:\n",
    "        for i, output_file in enumerate(executor.map(resample_file, wav_files)):\n",
    "            if i % 1000 == 0:\n",
    "                print(f\"{i}: {output_file}\")\n",
    "\n",
    "resample_wav_files(input_directory, output_directory, orig_sr, new_sr)"
   ]
  },
  {
   "cell_type": "code",
   "execution_count": 10,
   "metadata": {},
   "outputs": [
    {
     "name": "stdout",
     "output_type": "stream",
     "text": [
      "Sample rate: 22050\n"
     ]
    }
   ],
   "source": [
    "# Test random file to see if it worked\n",
    "out_path = os.path.join(output_directory, os.listdir(output_directory)[random.randint(0, len(os.listdir(output_directory)))])\n",
    "\n",
    "waveform, sample_rate = torchaudio.load(out_path)\n",
    "print(f\"Sample rate: {sample_rate}\")"
   ]
  },
  {
   "cell_type": "code",
   "execution_count": null,
   "metadata": {},
   "outputs": [],
   "source": []
  }
 ],
 "metadata": {
  "kernelspec": {
   "display_name": "g2p",
   "language": "python",
   "name": "python3"
  },
  "language_info": {
   "codemirror_mode": {
    "name": "ipython",
    "version": 3
   },
   "file_extension": ".py",
   "mimetype": "text/x-python",
   "name": "python",
   "nbconvert_exporter": "python",
   "pygments_lexer": "ipython3",
   "version": "3.10.12"
  },
  "orig_nbformat": 4
 },
 "nbformat": 4,
 "nbformat_minor": 2
}
