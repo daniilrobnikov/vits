{
 "cells": [
  {
   "cell_type": "code",
   "execution_count": 1,
   "metadata": {},
   "outputs": [
    {
     "name": "stdout",
     "output_type": "stream",
     "text": [
      "/Users/daniilrobnikov/Developer/TTS/vits-bengali\n",
      "LICENSE                         preprocess.py\n",
      "README.md                       requirements.txt\n",
      "attentions.py                   requirements_py11.txt\n",
      "commons.py                      \u001b[34mresources\u001b[m\u001b[m/\n",
      "\u001b[34mconfigs\u001b[m\u001b[m/                        test-env.txt\n",
      "data_utils.py                   test-gpu_monotonic_align.ipynb\n",
      "\u001b[34mfilelists\u001b[m\u001b[m/                      test-todo.txt\n",
      "inference.ipynb                 test_torchaudio.ipynb\n",
      "losses.py                       \u001b[34mtext\u001b[m\u001b[m/\n",
      "mel_processing.py               train.py\n",
      "models.py                       train_ms.py\n",
      "modules.py                      transforms.py\n",
      "monotonic_align.py              utils.py\n",
      "\u001b[34mpreprocess\u001b[m\u001b[m/\n"
     ]
    }
   ],
   "source": [
    "%cd ..\n",
    "%ls"
   ]
  },
  {
   "cell_type": "code",
   "execution_count": 3,
   "metadata": {},
   "outputs": [],
   "source": [
    "# Load the data from the csv file\n",
    "import pandas as pd\n",
    "\n",
    "dataset_name = \"madasr23\"\n",
    "data = pd.read_csv(f\"filelists/{dataset_name}.csv\")"
   ]
  },
  {
   "cell_type": "code",
   "execution_count": 4,
   "metadata": {},
   "outputs": [
    {
     "name": "stdout",
     "output_type": "stream",
     "text": [
      "Number of speakers: 2011\n"
     ]
    }
   ],
   "source": [
    "# Get number of unique speakers in spkid column\n",
    "num_of_speakers = len(data[\"spkid\"].unique())\n",
    "print(f\"Number of speakers: {num_of_speakers}\")"
   ]
  },
  {
   "cell_type": "code",
   "execution_count": null,
   "metadata": {},
   "outputs": [],
   "source": []
  }
 ],
 "metadata": {
  "kernelspec": {
   "display_name": "py10",
   "language": "python",
   "name": "python3"
  },
  "language_info": {
   "codemirror_mode": {
    "name": "ipython",
    "version": 3
   },
   "file_extension": ".py",
   "mimetype": "text/x-python",
   "name": "python",
   "nbconvert_exporter": "python",
   "pygments_lexer": "ipython3",
   "version": "3.11.4"
  },
  "orig_nbformat": 4
 },
 "nbformat": 4,
 "nbformat_minor": 2
}
