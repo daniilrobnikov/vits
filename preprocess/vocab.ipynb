{
 "cells": [
  {
   "cell_type": "markdown",
   "metadata": {},
   "source": [
    "# Generate list of all symbols present in dataset\n",
    "### (Both text and phonemes)"
   ]
  },
  {
   "cell_type": "code",
   "execution_count": 1,
   "metadata": {},
   "outputs": [
    {
     "name": "stdout",
     "output_type": "stream",
     "text": [
      "/Users/daniilrobnikov/Developer/TTS/vits\n",
      "\u001b[35mDUMMY3\u001b[m\u001b[m@                 inference.ipynb         \u001b[34mresources\u001b[m\u001b[m/\n",
      "LICENSE                 losses.py               \u001b[34mtext\u001b[m\u001b[m/\n",
      "README.md               mel_processing.py       train.py\n",
      "attentions.py           models.py               train_ms.py\n",
      "commons.py              modules.py              train_ms_accelerate.py\n",
      "\u001b[34mconfigs\u001b[m\u001b[m/                \u001b[34mmonotonic_align\u001b[m\u001b[m/        train_ms_pretrained.py\n",
      "\u001b[34mcorpus\u001b[m\u001b[m/                 \u001b[34mpreprocess\u001b[m\u001b[m/             transforms.py\n",
      "data_utils.py           preprocess.py           utils.py\n",
      "\u001b[34mfilelists\u001b[m\u001b[m/              requirements.txt\n"
     ]
    }
   ],
   "source": [
    "%cd ..\n",
    "%ls"
   ]
  },
  {
   "cell_type": "code",
   "execution_count": 2,
   "metadata": {},
   "outputs": [
    {
     "name": "stdout",
     "output_type": "stream",
     "text": [
      "['_', ';', ':', ',', '.', '!', '?', '¡', '¿', '—', '…', '\"', '«', '»', '“', '”', ' ', 'A', 'B', 'C', 'D', 'E', 'F', 'G', 'H', 'I', 'J', 'K', 'L', 'M', 'N', 'O', 'P', 'Q', 'R', 'S', 'T', 'U', 'V', 'W', 'X', 'Y', 'Z', 'a', 'b', 'c', 'd', 'e', 'f', 'g', 'h', 'i', 'j', 'k', 'l', 'm', 'n', 'o', 'p', 'q', 'r', 's', 't', 'u', 'v', 'w', 'x', 'y', 'z', 'ɑ', 'ɐ', 'ɒ', 'æ', 'ɓ', 'ʙ', 'β', 'ɔ', 'ɕ', 'ç', 'ɗ', 'ɖ', 'ð', 'ʤ', 'ə', 'ɘ', 'ɚ', 'ɛ', 'ɜ', 'ɝ', 'ɞ', 'ɟ', 'ʄ', 'ɡ', 'ɠ', 'ɢ', 'ʛ', 'ɦ', 'ɧ', 'ħ', 'ɥ', 'ʜ', 'ɨ', 'ɪ', 'ʝ', 'ɭ', 'ɬ', 'ɫ', 'ɮ', 'ʟ', 'ɱ', 'ɯ', 'ɰ', 'ŋ', 'ɳ', 'ɲ', 'ɴ', 'ø', 'ɵ', 'ɸ', 'θ', 'œ', 'ɶ', 'ʘ', 'ɹ', 'ɺ', 'ɾ', 'ɻ', 'ʀ', 'ʁ', 'ɽ', 'ʂ', 'ʃ', 'ʈ', 'ʧ', 'ʉ', 'ʊ', 'ʋ', 'ⱱ', 'ʌ', 'ɣ', 'ɤ', 'ʍ', 'χ', 'ʎ', 'ʏ', 'ʑ', 'ʐ', 'ʒ', 'ʔ', 'ʡ', 'ʕ', 'ʢ', 'ǀ', 'ǁ', 'ǂ', 'ǃ', 'ˈ', 'ˌ', 'ː', 'ˑ', 'ʼ', 'ʴ', 'ʰ', 'ʱ', 'ʲ', 'ʷ', 'ˠ', 'ˤ', '˞', '↓', '↑', '→', '↗', '↘', \"'\", '̩', \"'\", '̃']\n",
      "178\n"
     ]
    }
   ],
   "source": [
    "import numpy as np\n",
    "import pandas as pd\n",
    "\n",
    "from text import symbols\n",
    "\n",
    "print(symbols)\n",
    "print(len(symbols))"
   ]
  },
  {
   "cell_type": "code",
   "execution_count": 3,
   "metadata": {},
   "outputs": [
    {
     "name": "stdout",
     "output_type": "stream",
     "text": [
      "[' ', '.', 'ঁ', 'ং', 'ঃ', 'অ', 'আ', 'ই', 'ঈ', 'উ', 'ঊ', 'ঋ', 'এ', 'ঐ', 'ও', 'ঔ', 'ক', 'খ', 'গ', 'ঘ', 'ঙ', 'চ', 'ছ', 'জ', 'ঝ', 'ঞ', 'ট', 'ঠ', 'ড', 'ঢ', 'ণ', 'ত', 'থ', 'দ', 'ধ', 'ন', 'প', 'ফ', 'ব', 'ভ', 'ম', 'য', 'র', 'ল', 'শ', 'ষ', 'স', 'হ', '়', 'া', 'ি', 'ী', 'ু', 'ূ', 'ৃ', 'ে', 'ৈ', 'ো', 'ৌ', '্', 'ৎ', 'ড়', 'ঢ়', 'য়', 'ৠ']\n",
      "Number of unique symbols: 65\n"
     ]
    }
   ],
   "source": [
    "dataset_name = 'madasr23dataset'\n",
    "data = pd.read_csv(f'filelists/{dataset_name}.csv')\n",
    "\n",
    "# Concatenate all the text strings into a single string\n",
    "all_text = ''.join(data[\"text\"])\n",
    "\n",
    "# Convert the string into a set to remove duplicate symbols\n",
    "_data_letters = set(all_text)\n",
    "\n",
    "# Convert the set back into a list\n",
    "_data_letters_list = list(_data_letters)\n",
    "\n",
    "# Sort the list alphabetically\n",
    "_data_letters_list.sort()\n",
    "_data_letters_list_uniq = _data_letters_list\n",
    "\n",
    "print(_data_letters_list)\n",
    "print(f'Number of unique symbols: {len(_data_letters_list)}')"
   ]
  },
  {
   "cell_type": "code",
   "execution_count": 4,
   "metadata": {},
   "outputs": [
    {
     "name": "stdout",
     "output_type": "stream",
     "text": [
      "['ঁ', 'ং', 'ঃ', 'অ', 'আ', 'ই', 'ঈ', 'উ', 'ঊ', 'ঋ', 'এ', 'ঐ', 'ও', 'ঔ', 'ক', 'খ', 'গ', 'ঘ', 'ঙ', 'চ', 'ছ', 'জ', 'ঝ', 'ঞ', 'ট', 'ঠ', 'ড', 'ঢ', 'ণ', 'ত', 'থ', 'দ', 'ধ', 'ন', 'প', 'ফ', 'ব', 'ভ', 'ম', 'য', 'র', 'ল', 'শ', 'ষ', 'স', 'হ', '়', 'া', 'ি', 'ী', 'ু', 'ূ', 'ৃ', 'ে', 'ৈ', 'ো', 'ৌ', '্', 'ৎ', 'ড়', 'ঢ়', 'য়', 'ৠ']\n",
      "Number of unique symbols: 63\n"
     ]
    }
   ],
   "source": [
    "# Remove symbols from unique_data_symbols_list that are already in symbols\n",
    "for symbol in symbols:\n",
    "    if symbol in _data_letters_list:\n",
    "        _data_letters_list.remove(symbol)\n",
    "\n",
    "print(_data_letters_list)\n",
    "print(f'Number of unique symbols: {len(_data_letters_list)}')"
   ]
  },
  {
   "cell_type": "code",
   "execution_count": 5,
   "metadata": {},
   "outputs": [
    {
     "name": "stdout",
     "output_type": "stream",
     "text": [
      "[' ', '.', 'a', 'b', 'd', 'e', 'f', 'h', 'i', 'j', 'k', 'l', 'm', 'n', 'o', 'p', 'r', 's', 't', 'u', 'w', 'æ', 'ŋ', 'ɔ', 'ɖ', 'ɟ', 'ɡ', 'ɾ', 'ʃ', 'ʈ', 'ʒ', 'ʰ', 'ˈ', 'ˌ', 'ː', '̃', '̩']\n",
      "Number of unique symbols: 37\n"
     ]
    }
   ],
   "source": [
    "# Concatenate all the text strings into a single string\n",
    "all_phonemes = ''.join(data[\"phonemes\"])\n",
    "\n",
    "# Convert the string into a set to remove duplicate symbols\n",
    "_data_letters_ipa = set(all_phonemes)\n",
    "\n",
    "# Convert the set back into a list\n",
    "_data_letters_ipa_list = list(_data_letters_ipa)\n",
    "\n",
    "# Sort the list alphabetically\n",
    "_data_letters_ipa_list.sort()\n",
    "_data_letters_ipa_list_uniq = _data_letters_ipa_list\n",
    "\n",
    "print(_data_letters_ipa_list)\n",
    "print(f'Number of unique symbols: {len(_data_letters_ipa_list)}')"
   ]
  },
  {
   "cell_type": "code",
   "execution_count": 6,
   "metadata": {},
   "outputs": [
    {
     "name": "stdout",
     "output_type": "stream",
     "text": [
      "[]\n",
      "Number of unique symbols: 0\n"
     ]
    }
   ],
   "source": [
    "# Remove symbols from unique_data_symbols_list that are already in symbols\n",
    "for symbol in symbols:\n",
    "    if symbol in _data_letters_ipa_list:\n",
    "        _data_letters_ipa_list.remove(symbol)\n",
    "\n",
    "print(_data_letters_ipa_list)\n",
    "print(f'Number of unique symbols: {len(_data_letters_ipa_list)}')"
   ]
  },
  {
   "cell_type": "code",
   "execution_count": 7,
   "metadata": {},
   "outputs": [
    {
     "name": "stdout",
     "output_type": "stream",
     "text": [
      "Previous number of symbols: 178\n",
      "Symbols: ['_', ';', ':', ',', '.', '!', '?', '¡', '¿', '—', '…', '\"', '«', '»', '“', '”', ' ', 'A', 'B', 'C', 'D', 'E', 'F', 'G', 'H', 'I', 'J', 'K', 'L', 'M', 'N', 'O', 'P', 'Q', 'R', 'S', 'T', 'U', 'V', 'W', 'X', 'Y', 'Z', 'a', 'b', 'c', 'd', 'e', 'f', 'g', 'h', 'i', 'j', 'k', 'l', 'm', 'n', 'o', 'p', 'q', 'r', 's', 't', 'u', 'v', 'w', 'x', 'y', 'z', 'ɑ', 'ɐ', 'ɒ', 'æ', 'ɓ', 'ʙ', 'β', 'ɔ', 'ɕ', 'ç', 'ɗ', 'ɖ', 'ð', 'ʤ', 'ə', 'ɘ', 'ɚ', 'ɛ', 'ɜ', 'ɝ', 'ɞ', 'ɟ', 'ʄ', 'ɡ', 'ɠ', 'ɢ', 'ʛ', 'ɦ', 'ɧ', 'ħ', 'ɥ', 'ʜ', 'ɨ', 'ɪ', 'ʝ', 'ɭ', 'ɬ', 'ɫ', 'ɮ', 'ʟ', 'ɱ', 'ɯ', 'ɰ', 'ŋ', 'ɳ', 'ɲ', 'ɴ', 'ø', 'ɵ', 'ɸ', 'θ', 'œ', 'ɶ', 'ʘ', 'ɹ', 'ɺ', 'ɾ', 'ɻ', 'ʀ', 'ʁ', 'ɽ', 'ʂ', 'ʃ', 'ʈ', 'ʧ', 'ʉ', 'ʊ', 'ʋ', 'ⱱ', 'ʌ', 'ɣ', 'ɤ', 'ʍ', 'χ', 'ʎ', 'ʏ', 'ʑ', 'ʐ', 'ʒ', 'ʔ', 'ʡ', 'ʕ', 'ʢ', 'ǀ', 'ǁ', 'ǂ', 'ǃ', 'ˈ', 'ˌ', 'ː', 'ˑ', 'ʼ', 'ʴ', 'ʰ', 'ʱ', 'ʲ', 'ʷ', 'ˠ', 'ˤ', '˞', '↓', '↑', '→', '↗', '↘', \"'\", '̩', \"'\", '̃']\n",
      "Updated number of unique symbols: 241\n",
      "Symbols: ['_', ';', ':', ',', '.', '!', '?', '¡', '¿', '—', '…', '\"', '«', '»', '“', '”', ' ', 'A', 'B', 'C', 'D', 'E', 'F', 'G', 'H', 'I', 'J', 'K', 'L', 'M', 'N', 'O', 'P', 'Q', 'R', 'S', 'T', 'U', 'V', 'W', 'X', 'Y', 'Z', 'a', 'b', 'c', 'd', 'e', 'f', 'g', 'h', 'i', 'j', 'k', 'l', 'm', 'n', 'o', 'p', 'q', 'r', 's', 't', 'u', 'v', 'w', 'x', 'y', 'z', 'ɑ', 'ɐ', 'ɒ', 'æ', 'ɓ', 'ʙ', 'β', 'ɔ', 'ɕ', 'ç', 'ɗ', 'ɖ', 'ð', 'ʤ', 'ə', 'ɘ', 'ɚ', 'ɛ', 'ɜ', 'ɝ', 'ɞ', 'ɟ', 'ʄ', 'ɡ', 'ɠ', 'ɢ', 'ʛ', 'ɦ', 'ɧ', 'ħ', 'ɥ', 'ʜ', 'ɨ', 'ɪ', 'ʝ', 'ɭ', 'ɬ', 'ɫ', 'ɮ', 'ʟ', 'ɱ', 'ɯ', 'ɰ', 'ŋ', 'ɳ', 'ɲ', 'ɴ', 'ø', 'ɵ', 'ɸ', 'θ', 'œ', 'ɶ', 'ʘ', 'ɹ', 'ɺ', 'ɾ', 'ɻ', 'ʀ', 'ʁ', 'ɽ', 'ʂ', 'ʃ', 'ʈ', 'ʧ', 'ʉ', 'ʊ', 'ʋ', 'ⱱ', 'ʌ', 'ɣ', 'ɤ', 'ʍ', 'χ', 'ʎ', 'ʏ', 'ʑ', 'ʐ', 'ʒ', 'ʔ', 'ʡ', 'ʕ', 'ʢ', 'ǀ', 'ǁ', 'ǂ', 'ǃ', 'ˈ', 'ˌ', 'ː', 'ˑ', 'ʼ', 'ʴ', 'ʰ', 'ʱ', 'ʲ', 'ʷ', 'ˠ', 'ˤ', '˞', '↓', '↑', '→', '↗', '↘', \"'\", '̩', \"'\", '̃', 'ঁ', 'ং', 'ঃ', 'অ', 'আ', 'ই', 'ঈ', 'উ', 'ঊ', 'ঋ', 'এ', 'ঐ', 'ও', 'ঔ', 'ক', 'খ', 'গ', 'ঘ', 'ঙ', 'চ', 'ছ', 'জ', 'ঝ', 'ঞ', 'ট', 'ঠ', 'ড', 'ঢ', 'ণ', 'ত', 'থ', 'দ', 'ধ', 'ন', 'প', 'ফ', 'ব', 'ভ', 'ম', 'য', 'র', 'ল', 'শ', 'ষ', 'স', 'হ', '়', 'া', 'ি', 'ী', 'ু', 'ূ', 'ৃ', 'ে', 'ৈ', 'ো', 'ৌ', '্', 'ৎ', 'ড়', 'ঢ়', 'য়', 'ৠ']\n",
      "\n",
      "_data_letters_ipa length: 0\n",
      "_data_letters length: 63\n",
      "\n",
      "_data_letters_ipa = ''\n",
      "_data_letters = 'ঁংঃঅআইঈউঊঋএঐওঔকখগঘঙচছজঝঞটঠডঢণতথদধনপফবভমযরলশষসহ়ািীুূৃেৈোৌ্ৎড়ঢ়য়ৠ'\n"
     ]
    }
   ],
   "source": [
    "print(f'Previous number of symbols: {len(symbols)}')\n",
    "print(f\"Symbols: {symbols}\")\n",
    "\n",
    "_data_letters_ipa = ''.join(_data_letters_ipa_list)\n",
    "_data_letters = ''.join(_data_letters_list)\n",
    "\n",
    "print(f'Updated number of unique symbols: {len(symbols + _data_letters_ipa_list + _data_letters_list)}')\n",
    "print(f\"Symbols: {symbols + _data_letters_ipa_list + _data_letters_list}\\n\")\n",
    "\n",
    "print(f'_data_letters_ipa length: {len(_data_letters_ipa)}')\n",
    "print(f'_data_letters length: {len(_data_letters)}\\n')\n",
    "\n",
    "print(f\"_data_letters_ipa = '{_data_letters_ipa}'\")\n",
    "print(f\"_data_letters = '{_data_letters}'\")\n"
   ]
  },
  {
   "cell_type": "code",
   "execution_count": null,
   "metadata": {},
   "outputs": [],
   "source": []
  }
 ],
 "metadata": {
  "kernelspec": {
   "display_name": "py10",
   "language": "python",
   "name": "python3"
  },
  "language_info": {
   "codemirror_mode": {
    "name": "ipython",
    "version": 3
   },
   "file_extension": ".py",
   "mimetype": "text/x-python",
   "name": "python",
   "nbconvert_exporter": "python",
   "pygments_lexer": "ipython3",
   "version": "3.10.12"
  },
  "orig_nbformat": 4
 },
 "nbformat": 4,
 "nbformat_minor": 2
}
