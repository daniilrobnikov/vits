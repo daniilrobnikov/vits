{
 "cells": [
  {
   "cell_type": "code",
   "execution_count": 1,
   "metadata": {},
   "outputs": [
    {
     "name": "stdout",
     "output_type": "stream",
     "text": [
      "/Users/daniilrobnikov/Developer/TTS/vits\n",
      "\u001b[35mDUMMY3\u001b[m\u001b[m@            \u001b[34mcorpus\u001b[m\u001b[m/            models.py          \u001b[34mresources\u001b[m\u001b[m/\n",
      "LICENSE            data_utils.py      modules.py         \u001b[34mtext\u001b[m\u001b[m/\n",
      "README.md          \u001b[34mfilelists\u001b[m\u001b[m/         \u001b[34mmonotonic_align\u001b[m\u001b[m/   train.py\n",
      "attentions.py      inference.ipynb    \u001b[34mpreprocess\u001b[m\u001b[m/        train_ms.py\n",
      "commons.py         losses.py          preprocess.py      transforms.py\n",
      "\u001b[34mconfigs\u001b[m\u001b[m/           mel_processing.py  requirements.txt   utils.py\n"
     ]
    }
   ],
   "source": [
    "%cd ..\n",
    "%ls"
   ]
  },
  {
   "cell_type": "code",
   "execution_count": 2,
   "metadata": {},
   "outputs": [],
   "source": [
    "# Load the data from the csv file\n",
    "import pandas as pd\n",
    "dataset_name = 'madasr23dataset'\n",
    "data = pd.read_csv(f'filelists/{dataset_name}.csv')"
   ]
  },
  {
   "cell_type": "code",
   "execution_count": 3,
   "metadata": {},
   "outputs": [
    {
     "name": "stdout",
     "output_type": "stream",
     "text": [
      "Number of speakers: 2011\n"
     ]
    }
   ],
   "source": [
    "# Get number of unique speakers in spkid column\n",
    "num_of_speakers = len(data['spkid'].unique())\n",
    "print(f'Number of speakers: {num_of_speakers}')"
   ]
  },
  {
   "cell_type": "code",
   "execution_count": null,
   "metadata": {},
   "outputs": [],
   "source": []
  }
 ],
 "metadata": {
  "kernelspec": {
   "display_name": "py10",
   "language": "python",
   "name": "python3"
  },
  "language_info": {
   "codemirror_mode": {
    "name": "ipython",
    "version": 3
   },
   "file_extension": ".py",
   "mimetype": "text/x-python",
   "name": "python",
   "nbconvert_exporter": "python",
   "pygments_lexer": "ipython3",
   "version": "3.10.12"
  },
  "orig_nbformat": 4
 },
 "nbformat": 4,
 "nbformat_minor": 2
}
