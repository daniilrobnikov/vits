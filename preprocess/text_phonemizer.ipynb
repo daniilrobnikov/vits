{
 "cells": [
  {
   "cell_type": "markdown",
   "metadata": {},
   "source": [
    "# Create a dataset with phonemes\n"
   ]
  },
  {
   "cell_type": "code",
   "execution_count": 1,
   "metadata": {},
   "outputs": [
    {
     "name": "stdout",
     "output_type": "stream",
     "text": [
      "/Users/daniilrobnikov/Developer/TTS/vits-bengali\n",
      "LICENSE                         preprocess.py\n",
      "README.md                       requirements.txt\n",
      "attentions.py                   requirements_py11.txt\n",
      "commons.py                      \u001b[34mresources\u001b[m\u001b[m/\n",
      "\u001b[34mconfigs\u001b[m\u001b[m/                        test-env.txt\n",
      "data_utils.py                   test-gpu_monotonic_align.ipynb\n",
      "\u001b[34mfilelists\u001b[m\u001b[m/                      test-todo.txt\n",
      "inference.ipynb                 test_torchaudio.ipynb\n",
      "losses.py                       \u001b[34mtext\u001b[m\u001b[m/\n",
      "mel_processing.py               train.py\n",
      "models.py                       train_ms.py\n",
      "modules.py                      transforms.py\n",
      "monotonic_align.py              utils.py\n",
      "\u001b[34mpreprocess\u001b[m\u001b[m/\n"
     ]
    }
   ],
   "source": [
    "%cd ..\n",
    "%ls"
   ]
  },
  {
   "cell_type": "code",
   "execution_count": 2,
   "metadata": {},
   "outputs": [],
   "source": [
    "import pandas as pd\n",
    "from phonemizer import phonemize\n",
    "\n",
    "dataset_name = \"madasr23\"\n",
    "origin_file_path = [\"/Users/daniilrobnikov/Developer/datasets/madasr23dataset/corpus/bn/train/text\",\n",
    "                    \"/Users/daniilrobnikov/Developer/datasets/madasr23dataset/corpus/bn/dev/text\"]"
   ]
  },
  {
   "cell_type": "code",
   "execution_count": 3,
   "metadata": {},
   "outputs": [
    {
     "name": "stdout",
     "output_type": "stream",
     "text": [
      "Number of lines: 581236\n",
      "                                                   0\n",
      "0  16777288_629046_281474981563595 বাঁশের প্রায় দ...\n",
      "1  16777288_629072_281474981405386 এক ধরনের পদ্ধত...\n",
      "2  16777288_629108_281474981563619 গুগলি বা ঝিনুক...\n",
      "3  16777288_629112_281474981581650 বাগ আরশোলা ইত্...\n",
      "4  16777288_629121_281474981582236 প্রাকৃতিক সব জ...\n"
     ]
    }
   ],
   "source": [
    "# Read and combine data from all files\n",
    "data = pd.concat([pd.read_csv(path, sep=\"\\t\", header=None)\n",
    "                 for path in origin_file_path], ignore_index=True)\n",
    "print(\"Number of lines:\", len(data))\n",
    "print(data.head())\n",
    "\n",
    "# The data looks like this:\n",
    "# sid_txtid_uttid text\n",
    "# 16777288_629046_281474981563595 বাঁশের প্রায়"
   ]
  },
  {
   "cell_type": "code",
   "execution_count": 4,
   "metadata": {},
   "outputs": [
    {
     "name": "stdout",
     "output_type": "stream",
     "text": [
      "      spkid   txtid            uttid  \\\n",
      "0  16777288  629046  281474981563595   \n",
      "1  16777288  629072  281474981405386   \n",
      "2  16777288  629108  281474981563619   \n",
      "3  16777288  629112  281474981581650   \n",
      "4  16777288  629121  281474981582236   \n",
      "\n",
      "                                                text  \n",
      "0  বাঁশের প্রায় দশ হাজার প্রজাতি হয় যেমন বাম্বুসা...  \n",
      "1  এক ধরনের পদ্ধতি যেটা দিয়ে শস্য থেকে খোসা ছাড়ান...  \n",
      "2         গুগলি বা ঝিনুকের মানে হল ওয়েস্টার আমরা খাই  \n",
      "3            বাগ আরশোলা ইত্যাদি সব পোকা গুলোর চাষ হয়  \n",
      "4        প্রাকৃতিক সব জিনিস গুলো দিয়া যখন চাষ করা হয়  \n"
     ]
    }
   ],
   "source": [
    "# Convert the data to the format of sid txtid uttid text, where each value in own column\n",
    "data = data[0].str.split(\"_\", n=2, expand=True)\n",
    "\n",
    "data = pd.concat(\n",
    "    [data[0], data[1], data[2].str.split(\" \", n=1, expand=True)], axis=1)\n",
    "data.columns = [\"spkid\", \"txtid\", \"uttid\", \"text\"]\n",
    "print(data.head())"
   ]
  },
  {
   "cell_type": "code",
   "execution_count": 5,
   "metadata": {},
   "outputs": [
    {
     "name": "stdout",
     "output_type": "stream",
     "text": [
      "      spkid   txtid            uttid  \\\n",
      "0  16777288  629046  281474981563595   \n",
      "1  16777288  629072  281474981405386   \n",
      "2  16777288  629108  281474981563619   \n",
      "3  16777288  629112  281474981581650   \n",
      "4  16777288  629121  281474981582236   \n",
      "\n",
      "                                                text  \\\n",
      "0  বাঁশের প্রায় দশ হাজার প্রজাতি হয় যেমন বাম্বুসা...   \n",
      "1  এক ধরনের পদ্ধতি যেটা দিয়ে শস্য থেকে খোসা ছাড়ান...   \n",
      "2         গুগলি বা ঝিনুকের মানে হল ওয়েস্টার আমরা খাই   \n",
      "3            বাগ আরশোলা ইত্যাদি সব পোকা গুলোর চাষ হয়   \n",
      "4        প্রাকৃতিক সব জিনিস গুলো দিয়া যখন চাষ করা হয়   \n",
      "\n",
      "                                            phonemes  \n",
      "0  bˈãʃeɾ pɾˈajo dˈɔʃ hˈaɟaɾ pɾˈoɟatˌi hˈɔjo dʒˈ...  \n",
      "1  ˈek dʰˈɔɾɔnˌeɾ pˈɔddʰɔtˌi dʒˈeʈa dˈie ʃˈɔssɔ t...  \n",
      "2  ɡˈuɡɔlˌi bˈa ɟʰˈinukˌeɾ mˈane hˈɔl ˈoːeʃʈˌaɾ ˌ...  \n",
      "3  bˈaɡ ˈaɾɔʃˌola ˈitædˌi ʃˈɔb pˈoka ɡˈuloɾ tʃˈaʃ...  \n",
      "4  pɾakɾˈitik ʃˈɔb ɟˈiniʃ ɡˈulo dˈia dʒˈɔkʰɔn tʃˈ...  \n"
     ]
    }
   ],
   "source": [
    "# Convert the text to phonemes\n",
    "# It may take a while. F.e. 500_000 lines of text ~ 25 minutes\n",
    "phonemes = phonemize(data[\"text\"], backend=\"espeak\", language=\"bn\",\n",
    "                     strip=True, preserve_punctuation=True, with_stress=True, njobs=8)\n",
    "\n",
    "phonemes = pd.DataFrame(phonemes)\n",
    "phonemes.columns = [\"phonemes\"]\n",
    "data = pd.concat([data, phonemes], axis=1)\n",
    "print(data.head())"
   ]
  },
  {
   "cell_type": "markdown",
   "metadata": {},
   "source": [
    "### Save the data to .csv file\n"
   ]
  },
  {
   "cell_type": "code",
   "execution_count": 6,
   "metadata": {},
   "outputs": [],
   "source": [
    "data.to_csv(f\"filelists/{dataset_name}.csv\", index=False)"
   ]
  }
 ],
 "metadata": {
  "kernelspec": {
   "display_name": "py10",
   "language": "python",
   "name": "python3"
  },
  "language_info": {
   "codemirror_mode": {
    "name": "ipython",
    "version": 3
   },
   "file_extension": ".py",
   "mimetype": "text/x-python",
   "name": "python",
   "nbconvert_exporter": "python",
   "pygments_lexer": "ipython3",
   "version": "3.11.4"
  },
  "orig_nbformat": 4
 },
 "nbformat": 4,
 "nbformat_minor": 2
}
