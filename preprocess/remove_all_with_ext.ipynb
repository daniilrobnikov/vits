{
 "cells": [
  {
   "cell_type": "code",
   "execution_count": null,
   "metadata": {},
   "outputs": [],
   "source": [
    "import os\n",
    "import glob\n",
    "\n",
    "\n",
    "# Usage example\n",
    "folder_path = '/gpfs/mariana/home/darobn/datasets/madasr23dataset/bn.cleaned'\n",
    "extension = '.spec.pt'"
   ]
  },
  {
   "cell_type": "code",
   "execution_count": null,
   "metadata": {},
   "outputs": [],
   "source": [
    "\n",
    "def remove_files_with_extension(folder_path, extension):\n",
    "    search_pattern = os.path.join(folder_path, '**', f'*{extension}')\n",
    "    files = glob.glob(search_pattern, recursive=True)\n",
    "\n",
    "    for file in files:\n",
    "        if os.path.isfile(file) and file.endswith(extension):\n",
    "            os.remove(file)\n",
    "\n",
    "remove_files_with_extension(folder_path, extension)"
   ]
  },
  {
   "cell_type": "code",
   "execution_count": null,
   "metadata": {},
   "outputs": [],
   "source": []
  }
 ],
 "metadata": {
  "language_info": {
   "name": "python"
  },
  "orig_nbformat": 4
 },
 "nbformat": 4,
 "nbformat_minor": 2
}
