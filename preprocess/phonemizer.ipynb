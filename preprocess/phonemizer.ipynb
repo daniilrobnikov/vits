{
 "cells": [
  {
   "cell_type": "markdown",
   "metadata": {},
   "source": [
    "## Combine the train and test data and split them into train and test data\n"
   ]
  },
  {
   "cell_type": "code",
   "execution_count": null,
   "metadata": {},
   "outputs": [],
   "source": [
    "%cd ..\n",
    "%ls"
   ]
  },
  {
   "cell_type": "code",
   "execution_count": 1,
   "metadata": {},
   "outputs": [],
   "source": [
    "dataset_name = 'madasr23dataset'\n",
    "origin_train_file_path = 'corpus/bn/train/text'\n",
    "origin_dev_file_path = 'corpus/bn/dev/text'"
   ]
  },
  {
   "cell_type": "code",
   "execution_count": 2,
   "metadata": {},
   "outputs": [
    {
     "name": "stdout",
     "output_type": "stream",
     "text": [
      "      spkid   txtid            uttid  \\\n",
      "0  16777288  629046  281474981563595   \n",
      "1  16777288  629072  281474981405386   \n",
      "2  16777288  629108  281474981563619   \n",
      "3  16777288  629112  281474981581650   \n",
      "4  16777288  629121  281474981582236   \n",
      "\n",
      "                                                text  \n",
      "0  বাঁশের প্রায় দশ হাজার প্রজাতি হয় যেমন বাম্বুসা...  \n",
      "1  এক ধরনের পদ্ধতি যেটা দিয়ে শস্য থেকে খোসা ছাড়ান...  \n",
      "2         গুগলি বা ঝিনুকের মানে হল ওয়েস্টার আমরা খাই  \n",
      "3            বাগ আরশোলা ইত্যাদি সব পোকা গুলোর চাষ হয়  \n",
      "4        প্রাকৃতিক সব জিনিস গুলো দিয়া যখন চাষ করা হয়  \n"
     ]
    }
   ],
   "source": [
    "import pandas as pd\n",
    "\n",
    "# Read the data\n",
    "train_data = pd.read_csv(origin_train_file_path, sep='\\t', header=None)\n",
    "dev_data = pd.read_csv(origin_dev_file_path, sep='\\t', header=None)\n",
    "\n",
    "# Combine the train and test data\n",
    "data = pd.concat([train_data, dev_data], ignore_index=True)\n",
    "\n",
    "# The data looks like this:\n",
    "# sid_txtid_uttid text\n",
    "# 16777288_629046_281474981563595 বাঁশের প্রায়\n",
    "\n",
    "\n",
    "# Convert the data to the format of sid txtid uttid text, where each value in own column\n",
    "data = data[0].str.split('_', n=2, expand=True) \n",
    "data = pd.concat([data[0], data[1], data[2].str.split(' ', n=1, expand=True)], axis=1)\n",
    "data.columns = ['spkid', 'txtid', 'uttid', 'text']\n",
    "\n",
    "print(data.head())"
   ]
  },
  {
   "cell_type": "code",
   "execution_count": 3,
   "metadata": {},
   "outputs": [
    {
     "name": "stdout",
     "output_type": "stream",
     "text": [
      "      spkid   txtid            uttid  \\\n",
      "0  16777288  629046  281474981563595   \n",
      "1  16777288  629072  281474981405386   \n",
      "2  16777288  629108  281474981563619   \n",
      "3  16777288  629112  281474981581650   \n",
      "4  16777288  629121  281474981582236   \n",
      "\n",
      "                                                text  \\\n",
      "0  বাঁশের প্রায় দশ হাজার প্রজাতি হয় যেমন বাম্বুসা...   \n",
      "1  এক ধরনের পদ্ধতি যেটা দিয়ে শস্য থেকে খোসা ছাড়ান...   \n",
      "2         গুগলি বা ঝিনুকের মানে হল ওয়েস্টার আমরা খাই   \n",
      "3            বাগ আরশোলা ইত্যাদি সব পোকা গুলোর চাষ হয়   \n",
      "4        প্রাকৃতিক সব জিনিস গুলো দিয়া যখন চাষ করা হয়   \n",
      "\n",
      "                                            phonemes  \n",
      "0  bˈãʃeɾ pɾˈajo dˈɔʃ hˈaɟaɾ pɾˈoɟatˌi hˈɔjo dʒˈ...  \n",
      "1  ˈek dʰˈɔɾɔnˌeɾ pˈɔddʰɔtˌi dʒˈeʈa dˈie ʃˈɔssɔ t...  \n",
      "2  ɡˈuɡɔlˌi bˈa ɟʰˈinukˌeɾ mˈane hˈɔl ˈoːeʃʈˌaɾ ˌ...  \n",
      "3  bˈaɡ ˈaɾɔʃˌola ˈitædˌi ʃˈɔb pˈoka ɡˈuloɾ tʃˈaʃ...  \n",
      "4  pɾakɾˈitik ʃˈɔb ɟˈiniʃ ɡˈulo dˈia dʒˈɔkʰɔn tʃˈ...  \n"
     ]
    }
   ],
   "source": [
    "# Convert the text to phonemes\n",
    "from phonemizer import phonemize\n",
    "phonemes = phonemize(data['text'], backend='espeak', language='bn', strip=True, preserve_punctuation=True, with_stress=True, njobs=8)\n",
    "phonemes = pd.DataFrame(phonemes)\n",
    "phonemes.columns = ['phonemes']\n",
    "\n",
    "data = pd.concat([data, phonemes], axis=1)\n",
    "print(data.head())"
   ]
  },
  {
   "cell_type": "markdown",
   "metadata": {},
   "source": [
    "### Save the data to a csv file"
   ]
  },
  {
   "cell_type": "code",
   "execution_count": 4,
   "metadata": {},
   "outputs": [],
   "source": [
    "data.to_csv(f'filelists/{dataset_name}.csv', index=False)"
   ]
  },
  {
   "cell_type": "code",
   "execution_count": null,
   "metadata": {},
   "outputs": [],
   "source": []
  }
 ],
 "metadata": {
  "kernelspec": {
   "display_name": "py10",
   "language": "python",
   "name": "python3"
  },
  "language_info": {
   "codemirror_mode": {
    "name": "ipython",
    "version": 3
   },
   "file_extension": ".py",
   "mimetype": "text/x-python",
   "name": "python",
   "nbconvert_exporter": "python",
   "pygments_lexer": "ipython3",
   "version": "3.8.16"
  },
  "orig_nbformat": 4
 },
 "nbformat": 4,
 "nbformat_minor": 2
}
